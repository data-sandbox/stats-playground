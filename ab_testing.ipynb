{
 "cells": [
  {
   "attachments": {},
   "cell_type": "markdown",
   "metadata": {},
   "source": [
    "## A/B Testing\n",
    "\n",
    "Playground to experiment with A/B Testing statistics.\n",
    "\n",
    "Resources:\n",
    "- http://vanbelle.org/chapters/webchapter2.pdf\n",
    "- https://towardsdatascience.com/required-sample-size-for-a-b-testing-6f6608dd330a\n",
    "- https://towardsdatascience.com/understanding-power-analysis-in-ab-testing-14808e8a1554"
   ]
  },
  {
   "cell_type": "code",
   "execution_count": 21,
   "metadata": {},
   "outputs": [],
   "source": [
    "import scipy.stats"
   ]
  },
  {
   "attachments": {},
   "cell_type": "markdown",
   "metadata": {},
   "source": [
    "### Designing a Test\n",
    "\n",
    "When designing an A/B test, the following factors are considered:\n",
    "\n",
    "- Null Hypothesis (H0): Design change has no effect on test outcome\n",
    "- Type I Error ($\\alpha$): Probability of rejecting the null hypothesis when it should *not* be rejected (false positive)\n",
    "- Type II Error ($\\beta$): Probability of not rejecting the null hypothesis when it should be rejected (false negative)\n",
    "- Power = 1 - $\\beta$: Probability of rejecting the null hypothesis when it should be rejected (true negative)\n",
    "- $\\sigma^2_0$ and $\\sigma^2_1$: Variances under the null and alternative hypotheses (can be the same)\n",
    "- $\\mu_0$ and $\\mu_1$: Means under the null and alternative hypotheses\n",
    "\n",
    "For e-commerce applications, Type I Error means deploying a feature change when it actually has no positive effect on conversion rate. Type II Error means *not* deploying a feature change when it actually does have a positive effect on conversion."
   ]
  },
  {
   "attachments": {},
   "cell_type": "markdown",
   "metadata": {},
   "source": [
    "One of the first questions in designing the experiment is \"how large should the sample size be\"? To determine this, the following factors must be estimated:\n",
    "1. Minimum Detectable Effect Size\n",
    "2. Conversion Rate\n",
    "3. Significance ($\\alpha$)\n",
    "4. Power\n",
    "5. Sample standard deviations"
   ]
  },
  {
   "attachments": {},
   "cell_type": "markdown",
   "metadata": {},
   "source": [
    "### Example Calc\n",
    "\n",
    "Let's try an example from the towardsdatascience article:\n",
    "- Assume the mean daily conversion rate for the past 6 months is 0.15.\n",
    "- With the new feature, we expect to see a 3% absolute increase in conversion rate. Thus, for the conversion rate for the treatment group will be 0.18. \n",
    "- Assume the sample standard deviation for the two groups is 0.05.\n",
    "- Assume alpha is 0.05 and power is 0.80 (typical values)"
   ]
  },
  {
   "cell_type": "code",
   "execution_count": 22,
   "metadata": {},
   "outputs": [],
   "source": [
    "def min_sample_size(alpha, beta, one_tailed, sigma0, sigma1, mu0, mu1):\n",
    "    \"\"\"Return minumum sample size for A/B testing\"\"\"\n",
    "\n",
    "    if one_tailed:\n",
    "        # z-critical value, one-tailed\n",
    "        z_alpha = scipy.stats.norm.ppf(1-alpha)\n",
    "    else:\n",
    "        # z-critical value, two-tailed\n",
    "        z_alpha = scipy.stats.norm.ppf(1-alpha/2)\n",
    "\n",
    "    z_beta = scipy.stats.norm.ppf(1-beta)\n",
    "\n",
    "    var = sigma0**2 + sigma1**2\n",
    "    delta = abs(mu1 - mu0)\n",
    "    n = (var * (z_alpha + z_beta)**2) / delta**2\n",
    "    return n\n",
    "        "
   ]
  },
  {
   "cell_type": "code",
   "execution_count": 23,
   "metadata": {},
   "outputs": [
    {
     "name": "stdout",
     "output_type": "stream",
     "text": [
      "Min sample size: 34.35\n"
     ]
    }
   ],
   "source": [
    "# Inputs\n",
    "alpha = 0.05\n",
    "power = 0.8\n",
    "beta = 1 - power\n",
    "one_tailed = True\n",
    "sigma0 = 0.05\n",
    "sigma1 = 0.05\n",
    "mu0 = 0.15\n",
    "mu1 = 0.18\n",
    "\n",
    "n = min_sample_size(alpha, beta, one_tailed, sigma0, sigma1, mu0, mu1)\n",
    "print(f'Min sample size: {n:.2f}')"
   ]
  },
  {
   "cell_type": "code",
   "execution_count": null,
   "metadata": {},
   "outputs": [],
   "source": []
  }
 ],
 "metadata": {
  "kernelspec": {
   "display_name": ".venvstats",
   "language": "python",
   "name": "python3"
  },
  "language_info": {
   "codemirror_mode": {
    "name": "ipython",
    "version": 3
   },
   "file_extension": ".py",
   "mimetype": "text/x-python",
   "name": "python",
   "nbconvert_exporter": "python",
   "pygments_lexer": "ipython3",
   "version": "3.10.11"
  },
  "orig_nbformat": 4
 },
 "nbformat": 4,
 "nbformat_minor": 2
}
