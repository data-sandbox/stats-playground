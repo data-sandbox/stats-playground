{
 "cells": [
  {
   "attachments": {},
   "cell_type": "markdown",
   "metadata": {},
   "source": [
    "## A/B Testing\n",
    "\n",
    "Playground to experiment with A/B Testing statistics.\n",
    "\n",
    "Resources:\n",
    "- http://vanbelle.org/chapters/webchapter2.pdf\n",
    "- https://towardsdatascience.com/required-sample-size-for-a-b-testing-6f6608dd330a\n",
    "- https://towardsdatascience.com/understanding-power-analysis-in-ab-testing-14808e8a1554"
   ]
  },
  {
   "cell_type": "code",
   "execution_count": 29,
   "metadata": {},
   "outputs": [],
   "source": [
    "import scipy.stats"
   ]
  },
  {
   "attachments": {},
   "cell_type": "markdown",
   "metadata": {},
   "source": [
    "### Designing a Test\n",
    "\n",
    "When designing an A/B test, the following factors are considered:\n",
    "\n",
    "- **Null Hypothesis (H0):** Design change has no effect on test outcome\n",
    "- **Type I Error ($\\alpha$):** Probability of rejecting the null hypothesis when it should *not* be rejected (false positive)\n",
    "- **Type II Error ($\\beta$):** Probability of not rejecting the null hypothesis when it should be rejected (false negative)\n",
    "- **Power = 1 - $\\beta$:** Probability of rejecting the null hypothesis when it should be rejected (true negative)\n",
    "- **$\\sigma^2_0$ and $\\sigma^2_1$:** Variances under the null and alternative hypotheses (can be the same)\n",
    "- **$\\mu_0$ and $\\mu_1$:** Means under the null and alternative hypotheses\n",
    "\n",
    "For e-commerce applications, Type I Error means deploying a feature change when it actually has no positive effect on conversion rate. Type II Error means *not* deploying a feature change when it actually does have a positive effect on conversion."
   ]
  },
  {
   "attachments": {},
   "cell_type": "markdown",
   "metadata": {},
   "source": [
    "### Sample Size\n",
    "\n",
    "One of the first questions in designing the experiment is \"how large should the sample size be\"? Sticking with e-commerce applications, the following factors must be estimated to determine the minimum sample size:\n",
    "1. **Conversion Rate**: Total number of orders divided by total number of unique visitors.\n",
    "2. **Minimum Detectable Effect Size**: The minimum effect size to make the experiment worthwhile. This is commonly some percent increase in conversion rate, which is connected to a measurable revenue increase. For instance, imagine an e-commerce company with 1 million unique visitors monthly and average basket size of $50. A 1% conversion rate increase would result in a significant $500k revenue increase. In contrast, a small company with only 10k unique visitors monthly would only see a $5k revenue increase which might not be worth the cost of the design change effort.\n",
    "3. **Significance ($\\alpha$):** Type I Error, or the probability threshold that the difference observed in the experiment is statistically significant. Commonly set to 5%. Can also be thought of as accepting a Type I Error (false positive) 5% of the time. \n",
    "4. **Power:** The higher the power, the lower the probability of making a Type II error. Commonly set to 80%. Can also be thought of as accepting a Type II Error (false negative) 20% of the time.\n",
    "5. **Sample standard deviations:** Estimated from historical tests or data.\n",
    "\n",
    "While many equations can be found for estimating minimum sample size, the one presented here is from the textbook [Statistical Rules of Thumb](http://vanbelle.org/chapters/webchapter2.pdf) by Gerald van Belle:\n",
    "$$\n",
    "n = {(\\sigma_0^2 + \\sigma_1^2)(z_{1-\\alpha} + z_{1-\\beta})^2 \\over |\\mu_1 - \\mu_0|^2}\n",
    "$$\n",
    "\n",
    "where $z_{1-\\alpha}$ is the z critical value for a given $\\alpha$ (in a one-tailed test), $z_{1-\\beta}$ is the z critical value for given a $\\beta$. Note in a two-tailed test, $z_{1-\\alpha}$ becomes $z_{1-\\alpha/2}$."
   ]
  },
  {
   "attachments": {},
   "cell_type": "markdown",
   "metadata": {},
   "source": [
    "### Parameter Tradeoffs\n",
    "\n",
    "Selecting input parameters to determine sample size is all about tradeoffs. While the goal may be to minimize $\\alpha$ (i.e. minimize Type I Errors) and maximize power (i.e. minimize Type II Errors), doing so requires more samples.\n",
    "- Decrease $\\alpha$ for higher confidence level --> requires more samples.\n",
    "- Increase power for fewer false negatives --> requires more samples.\n",
    "- Smaller sample variance --> requires fewer samples.\n",
    "- Smaller delta --> requires more samples."
   ]
  },
  {
   "attachments": {},
   "cell_type": "markdown",
   "metadata": {},
   "source": [
    "### Example Calc\n",
    "\n",
    "Let's try an example from the towardsdatascience article:\n",
    "- Assume the mean daily conversion rate for the past 6 months is 0.15.\n",
    "- With the new feature, we expect to see a 3% absolute increase in conversion rate. Thus, for the conversion rate for the treatment group will be 0.18. \n",
    "- Assume the sample standard deviation for the two groups is 0.05.\n",
    "- Assume alpha is 0.05 and power is 0.80 (typical values)"
   ]
  },
  {
   "cell_type": "code",
   "execution_count": 30,
   "metadata": {},
   "outputs": [],
   "source": [
    "def min_sample_size(alpha, beta, one_tailed, sigma0, sigma1, mu0, mu1):\n",
    "    \"\"\"Return minumum sample size for A/B testing\"\"\"\n",
    "\n",
    "    if one_tailed:\n",
    "        # z-critical value, one-tailed\n",
    "        z_alpha = scipy.stats.norm.ppf(1-alpha)\n",
    "    else:\n",
    "        # z-critical value, two-tailed\n",
    "        z_alpha = scipy.stats.norm.ppf(1-alpha/2)\n",
    "\n",
    "    z_beta = scipy.stats.norm.ppf(1-beta)\n",
    "\n",
    "    var = sigma0**2 + sigma1**2\n",
    "    delta = abs(mu1 - mu0)\n",
    "    n = (var * (z_alpha + z_beta)**2) / delta**2\n",
    "    return n\n",
    "        "
   ]
  },
  {
   "cell_type": "code",
   "execution_count": 31,
   "metadata": {},
   "outputs": [
    {
     "name": "stdout",
     "output_type": "stream",
     "text": [
      "Min sample size: 34.35\n"
     ]
    }
   ],
   "source": [
    "# Inputs\n",
    "alpha = 0.05\n",
    "power = 0.8\n",
    "beta = 1 - power\n",
    "one_tailed = True\n",
    "sigma0 = 0.05\n",
    "sigma1 = 0.05\n",
    "conversion0 = 0.15\n",
    "conversion1 = 0.18\n",
    "\n",
    "n = min_sample_size(alpha, beta, one_tailed, sigma0, sigma1, conversion0, conversion1)\n",
    "print(f'Min sample size: {n:.2f}')"
   ]
  },
  {
   "cell_type": "code",
   "execution_count": null,
   "metadata": {},
   "outputs": [],
   "source": []
  }
 ],
 "metadata": {
  "kernelspec": {
   "display_name": ".venvstats",
   "language": "python",
   "name": "python3"
  },
  "language_info": {
   "codemirror_mode": {
    "name": "ipython",
    "version": 3
   },
   "file_extension": ".py",
   "mimetype": "text/x-python",
   "name": "python",
   "nbconvert_exporter": "python",
   "pygments_lexer": "ipython3",
   "version": "3.10.11"
  },
  "orig_nbformat": 4
 },
 "nbformat": 4,
 "nbformat_minor": 2
}
