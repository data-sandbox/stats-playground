{
 "cells": [
  {
   "attachments": {},
   "cell_type": "markdown",
   "metadata": {},
   "source": [
    "## Permutation\n",
    "\n",
    "The permutation test is a type of statistical significance test. It is a resampling technique, just like the [bootstrap](https://github.com/data-sandbox/stats-sandbox/blob/main/bootstrap.ipynb).\n",
    "\n",
    "References:\n",
    "- [ThinkStats2 by AllenDowney](https://github.com/AllenDowney/ThinkStats2)"
   ]
  },
  {
   "cell_type": "code",
   "execution_count": 1,
   "metadata": {},
   "outputs": [],
   "source": [
    "from pathlib import Path\n",
    "import numpy as np\n"
   ]
  },
  {
   "attachments": {},
   "cell_type": "markdown",
   "metadata": {},
   "source": [
    "From the [2002 NSFG Cycle 6](https://www.cdc.gov/nchs/nsfg/nsfg_cycle6.htm) data, the mean pregancy length for first babies is slightly longer than other babies. Let's try a permutation test to see if the difference in length is statistically significant. To do so, we'll combine both groups into one large group, shuffle the data, then randomly divide the data into two groups with sizes that match the original groups.\n",
    "\n",
    "**Null hypothesis:** There is no difference in pregnancy length for first babies versus other babies."
   ]
  },
  {
   "cell_type": "code",
   "execution_count": 2,
   "metadata": {},
   "outputs": [
    {
     "name": "stdout",
     "output_type": "stream",
     "text": [
      "Array lengths: 4413 and 4735\n",
      "First pregnancy mean length (weeks): 38.601\n",
      "Other pregnancy mean length (weeks): 38.523\n",
      "Difference in length: 0.078\n"
     ]
    }
   ],
   "source": [
    "firstpreg = np.load(Path('firstpreg.npy'))\n",
    "otherpreg = np.load(Path('otherpreg.npy'))\n",
    "\n",
    "print(f'Array lengths: {len(firstpreg)} and {len(otherpreg)}')\n",
    "print(f'First pregnancy mean length (weeks): {firstpreg.mean():.3f}')\n",
    "print(f'Other pregnancy mean length (weeks): {otherpreg.mean():.3f}')\n",
    "print(f'Difference in length: {abs(firstpreg.mean() - otherpreg.mean()):.3f}')\n"
   ]
  },
  {
   "cell_type": "code",
   "execution_count": 3,
   "metadata": {},
   "outputs": [],
   "source": [
    "def shuffle_groups(group1, group2, seed=False):\n",
    "    \"\"\"Combine groups, shuffle data, then return two new groups\n",
    "    of the original sizes.\n",
    "\n",
    "    Note np.random.shuffle() performs shuffle in-place\n",
    "    and therefore is not used here for clarify.\n",
    "    \"\"\"\n",
    "    if seed:\n",
    "        np.random.seed(42)\n",
    "    combined = np.hstack((group1, group2))\n",
    "    shuffled = np.random.permutation(combined)\n",
    "    new1 = shuffled[:len(group1)]\n",
    "    new2 = shuffled[len(group1):]\n",
    "    return new1, new2\n"
   ]
  },
  {
   "cell_type": "code",
   "execution_count": 4,
   "metadata": {},
   "outputs": [
    {
     "name": "stdout",
     "output_type": "stream",
     "text": [
      "Difference in means: 0.062\n"
     ]
    }
   ],
   "source": [
    "group1, group2 = shuffle_groups(firstpreg, otherpreg)\n",
    "test_stat = abs(group1.mean() - group2.mean())\n",
    "\n",
    "print(f'Difference in means: {test_stat:.3f}')\n"
   ]
  },
  {
   "attachments": {},
   "cell_type": "markdown",
   "metadata": {},
   "source": [
    "Next let's wrap everything into a function to compute the p-value from a distribution."
   ]
  },
  {
   "cell_type": "code",
   "execution_count": 5,
   "metadata": {},
   "outputs": [],
   "source": [
    "def get_pvalue(group1, group2, actual_stat, iters=1000):\n",
    "    \"\"\"Compute p_value from resampled distribution\"\"\"\n",
    "    test_stat = []\n",
    "    for _ in range(iters):\n",
    "        new1, new2 = shuffle_groups(group1, group2)\n",
    "        test_stat.append(abs(new1.mean() - new2.mean()))\n",
    "\n",
    "    count = sum(1 for x in test_stat if x >= actual_stat)\n",
    "\n",
    "    return count / iters\n"
   ]
  },
  {
   "cell_type": "code",
   "execution_count": 6,
   "metadata": {},
   "outputs": [
    {
     "name": "stdout",
     "output_type": "stream",
     "text": [
      "p-value: 0.184\n"
     ]
    }
   ],
   "source": [
    "pvalue = get_pvalue(firstpreg, otherpreg, abs(\n",
    "    firstpreg.mean() - otherpreg.mean()))\n",
    "print(f'p-value: {pvalue:.3f}')\n"
   ]
  },
  {
   "attachments": {},
   "cell_type": "markdown",
   "metadata": {},
   "source": [
    "The p-value is much greater than 0.05, thus we cannot reject the null hypothesis that there is no difference in pregnancy lengths. We can conclude that the observed difference is likely due to random sampling.\n",
    "\n",
    "Interestingly, the permutation test here results in a much higher p-value than the ~0.06 obtained through a [bootstrap test](https://github.com/data-sandbox/stats-sandbox/blob/main/bootstrap.ipynb)."
   ]
  },
  {
   "cell_type": "markdown",
   "metadata": {},
   "source": []
  }
 ],
 "metadata": {
  "kernelspec": {
   "display_name": ".venvstats",
   "language": "python",
   "name": "python3"
  },
  "language_info": {
   "codemirror_mode": {
    "name": "ipython",
    "version": 3
   },
   "file_extension": ".py",
   "mimetype": "text/x-python",
   "name": "python",
   "nbconvert_exporter": "python",
   "pygments_lexer": "ipython3",
   "version": "3.9.6"
  },
  "orig_nbformat": 4
 },
 "nbformat": 4,
 "nbformat_minor": 2
}
